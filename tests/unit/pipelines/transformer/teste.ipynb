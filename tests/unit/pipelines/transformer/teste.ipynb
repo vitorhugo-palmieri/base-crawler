{
 "cells": [
  {
   "cell_type": "code",
   "execution_count": 1,
   "metadata": {},
   "outputs": [],
   "source": [
    "ementa = \"TRIBUTÁRIO.\\nAPELAÇÃO CÍVEL. EMBARGOS À\\n\\n\\nEXECUÇÃO. IPTU.\\n<b>IMUNIDADE</b> DE TEMPLOS DE QUALQUER CULTO. APLICAÇÃO DO\\nART. 150, VI, “b” DA CONSTITUIÇÃO FEDERAL.\""
   ]
  },
  {
   "cell_type": "code",
   "execution_count": 2,
   "metadata": {},
   "outputs": [],
   "source": [
    "import re"
   ]
  },
  {
   "cell_type": "code",
   "execution_count": 3,
   "metadata": {},
   "outputs": [
    {
     "data": {
      "text/plain": [
       "'TRIBUTÁRIO. APELAÇÃO CÍVEL. EMBARGOS À   EXECUÇÃO. IPTU. <b>IMUNIDADE</b> DE TEMPLOS DE QUALQUER CULTO. APLICAÇÃO DO ART. 150, VI, “b” DA CONSTITUIÇÃO FEDERAL.'"
      ]
     },
     "execution_count": 3,
     "metadata": {},
     "output_type": "execute_result"
    }
   ],
   "source": [
    "re.sub(\"\\n\",\" \",ementa)"
   ]
  }
 ],
 "metadata": {
  "kernelspec": {
   "display_name": "Python 3.10.6 64-bit",
   "language": "python",
   "name": "python3"
  },
  "language_info": {
   "codemirror_mode": {
    "name": "ipython",
    "version": 3
   },
   "file_extension": ".py",
   "mimetype": "text/x-python",
   "name": "python",
   "nbconvert_exporter": "python",
   "pygments_lexer": "ipython3",
   "version": "3.10.6 (main, Nov 14 2022, 16:10:14) [GCC 11.3.0]"
  },
  "orig_nbformat": 4,
  "vscode": {
   "interpreter": {
    "hash": "916dbcbb3f70747c44a77c7bcd40155683ae19c65e1c03b4aa3499c5328201f1"
   }
  }
 },
 "nbformat": 4,
 "nbformat_minor": 2
}
