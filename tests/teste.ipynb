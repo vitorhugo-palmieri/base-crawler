{
 "cells": [
  {
   "cell_type": "code",
   "execution_count": 1,
   "metadata": {},
   "outputs": [],
   "source": [
    "from pymongo import MongoClient\n",
    "client = MongoClient('localhost')\n",
    "collection = client['STK_inputs']['crawler-juris-tjba']"
   ]
  },
  {
   "cell_type": "code",
   "execution_count": 2,
   "metadata": {},
   "outputs": [],
   "source": [
    "item = {\n",
    "    \"_id\" : \"25dd28cf76edd79f34d3cd39b6063abc\",\n",
    "    \"data\" : {\n",
    "        \"classeProcessual\" : \"AGRAVO DE INSTRUMENTO\",\n",
    "        \"dataPublicacao\" : \"2022-01-04\",\n",
    "        \"orgaoJulgador\" : \"2ª VICE-PRESIDÊNCIA\",\n",
    "        \"relator\" : \"AUGUSTO DE LIMA BISPO\",\n",
    "        \"numeroProcesso\" : \"80059738120208050000\",\n",
    "        \"inteiroTeorTexto\" : \"PODER JUDICIÁRIO TRIBUNAL  DE JUSTIÇA DO ESTADO DA BAHIA   2ª Vice Presidência  RECURSO ESPECIAL EM AGRAVO DE INSTRUMENTO N° 8005973-81.2020.8.05.0000 – DE SALVADOR – BAHIA RECORRENTE : BANCO BRADESCO SA ADVOGADO(A) : ALAN SAMPAIO CAMPOS (OAB/BA n.º 37.491) e CARLOS EDUARDO CAVALCANTE RAMOS (OAB/BA n.º 37.489) RECORRIDO(A) : ORLANDO GOMES DA SILVA ADVOGADO(A) : CELSO RICARDO ASSUNCÃO TOLEDO (OAB/BA n.º 33.411)                                                                                              D E S P A C H O Compulsando-se os presentes autos, constata-se, que ao interpor o Recurso Especial, id-13720606, o Recorrente colacionou a guia de recolhimento preenchida da GRU referente às custas judicias devidas ao Superior Tribunal de Justiça, e seu respectivo comprovante, porém referente ao processo principal tombado sob o n.º 0538676-54.2014.8.05.0001. Todavia, as normas que disciplinam o pagamento do preparo recursal, exigem a definição correta do Recurso (Recurso Especial), a numeração correta do acórdão guerreado (8005973-81.2020.8.05.0000), e o valor relativo as custas a ser recolhido devidamente preenchidos, além do respectivo comprovante de pagamento de forma legível. Deste modo, em observância ao art. 1.007, §4.º do Código de Processo Civil, intime-se o Recorrente para efetuar o recolhimento das custas judiciais devidas, no prazo de 05 (cinco) dias, sob pena de deserção. Após, retornem os autos para juízo de admissibilidade do Recurso Especial interposto. Publique-se. Intimem-se. Salvador, 04 de janeiro de 2022. Des. Augusto de Lima Bispo 2º Vice-Presidente VP/03\",\n",
    "        \"inteiroTeorArquivo\" : [\n",
    "            {\n",
    "\n",
    "            }\n",
    "        ],\n",
    "        \"uf\" : \"BA\",\n",
    "        \"tribunal\" : \"TJBA\"\n",
    "    },\n",
    "    \"metadata\" : {\n",
    "        \"processingDate\" : \"2021-01-01T03:00:00+00:00\",\n",
    "        \"spiderName\" : \"crawler-juris-tjba\",\n",
    "        \"input\" : {\n",
    "            \"date\" : \"2022-01-04\"\n",
    "        },\n",
    "        \"reprocessed\" : False\n",
    "    }\n",
    "}"
   ]
  },
  {
   "cell_type": "code",
   "execution_count": 5,
   "metadata": {},
   "outputs": [],
   "source": [
    "texto = 'crawler d-1'"
   ]
  },
  {
   "cell_type": "code",
   "execution_count": 6,
   "metadata": {},
   "outputs": [
    {
     "data": {
      "text/plain": [
       "'crawler '"
      ]
     },
     "execution_count": 6,
     "metadata": {},
     "output_type": "execute_result"
    }
   ],
   "source": [
    "import re\n",
    "re.sub('d-1','',texto)"
   ]
  },
  {
   "cell_type": "code",
   "execution_count": 1,
   "metadata": {},
   "outputs": [],
   "source": [
    "import boto3"
   ]
  },
  {
   "cell_type": "code",
   "execution_count": 26,
   "metadata": {},
   "outputs": [],
   "source": [
    "access_key = 'a50282ed9f449e037e4966f0a98bebeee1b2b0f0'\n",
    "secret_key = '4dScU0RtinRvUG7EeGDR0z2l6HGCc8N60ZG0VbkVENk='\n",
    "region = 'us-phoenix-1'\n",
    "namespace = 'gri0qx6vdodt'\n",
    "bucket_name = 'user-bucket-ob_buscajuris-writer'\n",
    "file_name = 'arquivo_de_teste.pdf'\n",
    "session = boto3.Session(\n",
    "    aws_access_key_id=access_key,\n",
    "    aws_secret_access_key=secret_key,\n",
    "    region_name=region\n",
    "    \n",
    ")\n",
    "config = boto3.session.Config(signature_version='s3v4')\n",
    "endpoint_url=f\"https://gri0qx6vdodt.compat.objectstorage.us-phoenix-1.oraclecloud.com\"\n",
    "object_storage_client = session.client('s3', config=config,endpoint_url=endpoint_url)\n",
    "                                        "
   ]
  },
  {
   "cell_type": "code",
   "execution_count": 61,
   "metadata": {},
   "outputs": [
    {
     "ename": "ClientError",
     "evalue": "An error occurred (SignatureDoesNotMatch) when calling the PutObject operation: The secret key required to complete authentication could not be found. The region must be specified if this is not the home region for the tenancy.",
     "output_type": "error",
     "traceback": [
      "\u001b[0;31m---------------------------------------------------------------------------\u001b[0m",
      "\u001b[0;31mClientError\u001b[0m                               Traceback (most recent call last)",
      "\u001b[1;32m/home/vitorhugo/Documentos/BuscaJuris/base-crawler/tests/teste.ipynb Cell 7\u001b[0m in \u001b[0;36m2\n\u001b[1;32m     <a href='vscode-notebook-cell:/home/vitorhugo/Documentos/BuscaJuris/base-crawler/tests/teste.ipynb#X11sZmlsZQ%3D%3D?line=18'>19</a>\u001b[0m object_storage_client \u001b[39m=\u001b[39m session\u001b[39m.\u001b[39mclient(\u001b[39m'\u001b[39m\u001b[39ms3\u001b[39m\u001b[39m'\u001b[39m, endpoint_url\u001b[39m=\u001b[39mendpoint_url,config\u001b[39m=\u001b[39mconfig)\n\u001b[1;32m     <a href='vscode-notebook-cell:/home/vitorhugo/Documentos/BuscaJuris/base-crawler/tests/teste.ipynb#X11sZmlsZQ%3D%3D?line=20'>21</a>\u001b[0m \u001b[39mwith\u001b[39;00m \u001b[39mopen\u001b[39m(file_name, \u001b[39m\"\u001b[39m\u001b[39mrb\u001b[39m\u001b[39m\"\u001b[39m) \u001b[39mas\u001b[39;00m f:\n\u001b[1;32m     <a href='vscode-notebook-cell:/home/vitorhugo/Documentos/BuscaJuris/base-crawler/tests/teste.ipynb#X11sZmlsZQ%3D%3D?line=21'>22</a>\u001b[0m     \u001b[39m#print(f.read())\u001b[39;00m\n\u001b[0;32m---> <a href='vscode-notebook-cell:/home/vitorhugo/Documentos/BuscaJuris/base-crawler/tests/teste.ipynb#X11sZmlsZQ%3D%3D?line=22'>23</a>\u001b[0m     object_storage_client\u001b[39m.\u001b[39;49mput_object(Bucket\u001b[39m=\u001b[39;49mbucket_name, Key\u001b[39m=\u001b[39;49mfile_name, Body\u001b[39m=\u001b[39;49mf\u001b[39m.\u001b[39;49mread())\n\u001b[1;32m     <a href='vscode-notebook-cell:/home/vitorhugo/Documentos/BuscaJuris/base-crawler/tests/teste.ipynb#X11sZmlsZQ%3D%3D?line=23'>24</a>\u001b[0m     object_storage_client\u001b[39m.\u001b[39mupload_fileobj(f, bucket_name, file_name)\n",
      "File \u001b[0;32m~/.local/lib/python3.10/site-packages/botocore/client.py:530\u001b[0m, in \u001b[0;36mClientCreator._create_api_method.<locals>._api_call\u001b[0;34m(self, *args, **kwargs)\u001b[0m\n\u001b[1;32m    526\u001b[0m     \u001b[39mraise\u001b[39;00m \u001b[39mTypeError\u001b[39;00m(\n\u001b[1;32m    527\u001b[0m         \u001b[39mf\u001b[39m\u001b[39m\"\u001b[39m\u001b[39m{\u001b[39;00mpy_operation_name\u001b[39m}\u001b[39;00m\u001b[39m() only accepts keyword arguments.\u001b[39m\u001b[39m\"\u001b[39m\n\u001b[1;32m    528\u001b[0m     )\n\u001b[1;32m    529\u001b[0m \u001b[39m# The \"self\" in this scope is referring to the BaseClient.\u001b[39;00m\n\u001b[0;32m--> 530\u001b[0m \u001b[39mreturn\u001b[39;00m \u001b[39mself\u001b[39;49m\u001b[39m.\u001b[39;49m_make_api_call(operation_name, kwargs)\n",
      "File \u001b[0;32m~/.local/lib/python3.10/site-packages/botocore/client.py:960\u001b[0m, in \u001b[0;36mBaseClient._make_api_call\u001b[0;34m(self, operation_name, api_params)\u001b[0m\n\u001b[1;32m    958\u001b[0m     error_code \u001b[39m=\u001b[39m parsed_response\u001b[39m.\u001b[39mget(\u001b[39m\"\u001b[39m\u001b[39mError\u001b[39m\u001b[39m\"\u001b[39m, {})\u001b[39m.\u001b[39mget(\u001b[39m\"\u001b[39m\u001b[39mCode\u001b[39m\u001b[39m\"\u001b[39m)\n\u001b[1;32m    959\u001b[0m     error_class \u001b[39m=\u001b[39m \u001b[39mself\u001b[39m\u001b[39m.\u001b[39mexceptions\u001b[39m.\u001b[39mfrom_code(error_code)\n\u001b[0;32m--> 960\u001b[0m     \u001b[39mraise\u001b[39;00m error_class(parsed_response, operation_name)\n\u001b[1;32m    961\u001b[0m \u001b[39melse\u001b[39;00m:\n\u001b[1;32m    962\u001b[0m     \u001b[39mreturn\u001b[39;00m parsed_response\n",
      "\u001b[0;31mClientError\u001b[0m: An error occurred (SignatureDoesNotMatch) when calling the PutObject operation: The secret key required to complete authentication could not be found. The region must be specified if this is not the home region for the tenancy."
     ]
    }
   ],
   "source": [
    "import boto3\n",
    "\n",
    "access_key = 'a50282ed9f449e037e4966f0a98bebeee1b2b0f0'\n",
    "secret_key = '4dScU0RtinRvUG7EeGDR0z2l6HGCc8N60ZG0VbkVENk='\n",
    "region = 'us-phoenix-1'\n",
    "namespace = 'gri0qx6vdodt'\n",
    "bucket_name = 'user-bucket-ob_buscajuris-writer'\n",
    "file_name = 'arquivo_de_teste.pdf'\n",
    "\n",
    "session = boto3.Session(\n",
    "    aws_access_key_id=access_key,\n",
    "    aws_secret_access_key=secret_key,\n",
    "    region_name='us-phoenix-1',\n",
    ")\n",
    "\n",
    "config = boto3.session.Config(signature_version='s3v4')\n",
    "endpoint_url = f\"https://{namespace}.compat.objectstorage.{region}.oraclecloud.com\"\n",
    "\n",
    "object_storage_client = session.client('s3', endpoint_url=endpoint_url,config=config)\n",
    "\n",
    "with open(file_name, \"rb\") as f:\n",
    "    #print(f.read())\n",
    "    object_storage_client.put_object(Bucket=bucket_name, Key=file_name, Body=f.read())\n",
    "    object_storage_client.upload_fileobj(f, bucket_name, file_name)\n"
   ]
  },
  {
   "cell_type": "code",
   "execution_count": 68,
   "metadata": {},
   "outputs": [
    {
     "ename": "ClientError",
     "evalue": "An error occurred (SignatureDoesNotMatch) when calling the ListBuckets operation: The secret key required to complete authentication could not be found. The region must be specified if this is not the home region for the tenancy.",
     "output_type": "error",
     "traceback": [
      "\u001b[0;31m---------------------------------------------------------------------------\u001b[0m",
      "\u001b[0;31mClientError\u001b[0m                               Traceback (most recent call last)",
      "\u001b[1;32m/home/vitorhugo/Documentos/BuscaJuris/base-crawler/tests/teste.ipynb Cell 8\u001b[0m in \u001b[0;36m1\n\u001b[0;32m----> <a href='vscode-notebook-cell:/home/vitorhugo/Documentos/BuscaJuris/base-crawler/tests/teste.ipynb#X14sZmlsZQ%3D%3D?line=0'>1</a>\u001b[0m object_storage_client\u001b[39m.\u001b[39;49mlist_buckets()\n",
      "File \u001b[0;32m~/.local/lib/python3.10/site-packages/botocore/client.py:530\u001b[0m, in \u001b[0;36mClientCreator._create_api_method.<locals>._api_call\u001b[0;34m(self, *args, **kwargs)\u001b[0m\n\u001b[1;32m    526\u001b[0m     \u001b[39mraise\u001b[39;00m \u001b[39mTypeError\u001b[39;00m(\n\u001b[1;32m    527\u001b[0m         \u001b[39mf\u001b[39m\u001b[39m\"\u001b[39m\u001b[39m{\u001b[39;00mpy_operation_name\u001b[39m}\u001b[39;00m\u001b[39m() only accepts keyword arguments.\u001b[39m\u001b[39m\"\u001b[39m\n\u001b[1;32m    528\u001b[0m     )\n\u001b[1;32m    529\u001b[0m \u001b[39m# The \"self\" in this scope is referring to the BaseClient.\u001b[39;00m\n\u001b[0;32m--> 530\u001b[0m \u001b[39mreturn\u001b[39;00m \u001b[39mself\u001b[39;49m\u001b[39m.\u001b[39;49m_make_api_call(operation_name, kwargs)\n",
      "File \u001b[0;32m~/.local/lib/python3.10/site-packages/botocore/client.py:960\u001b[0m, in \u001b[0;36mBaseClient._make_api_call\u001b[0;34m(self, operation_name, api_params)\u001b[0m\n\u001b[1;32m    958\u001b[0m     error_code \u001b[39m=\u001b[39m parsed_response\u001b[39m.\u001b[39mget(\u001b[39m\"\u001b[39m\u001b[39mError\u001b[39m\u001b[39m\"\u001b[39m, {})\u001b[39m.\u001b[39mget(\u001b[39m\"\u001b[39m\u001b[39mCode\u001b[39m\u001b[39m\"\u001b[39m)\n\u001b[1;32m    959\u001b[0m     error_class \u001b[39m=\u001b[39m \u001b[39mself\u001b[39m\u001b[39m.\u001b[39mexceptions\u001b[39m.\u001b[39mfrom_code(error_code)\n\u001b[0;32m--> 960\u001b[0m     \u001b[39mraise\u001b[39;00m error_class(parsed_response, operation_name)\n\u001b[1;32m    961\u001b[0m \u001b[39melse\u001b[39;00m:\n\u001b[1;32m    962\u001b[0m     \u001b[39mreturn\u001b[39;00m parsed_response\n",
      "\u001b[0;31mClientError\u001b[0m: An error occurred (SignatureDoesNotMatch) when calling the ListBuckets operation: The secret key required to complete authentication could not be found. The region must be specified if this is not the home region for the tenancy."
     ]
    }
   ],
   "source": [
    "object_storage_client.list_buckets()\n",
    " "
   ]
  },
  {
   "cell_type": "code",
   "execution_count": 44,
   "metadata": {},
   "outputs": [],
   "source": [
    "config = {\n",
    "    \"user\": \"user-bucket-ob_buscajuris-writer\",\n",
    "    \"key_file\": \"a50282ed9f449e037e4966f0a98bebeee1b2b0f0\",\n",
    "    \"fingerprint\": \"4dScU0RtinRvUG7EeGDR0z2l6HGCc8N60ZG0VbkVENk=\",\n",
    "    \"tenancy\": \"gri0qx6vdodt\",\n",
    "    \"region\": \"us-phoenix-1.\",\n",
    "    \"object_storage\": {\n",
    "        \"bucket\": \"user-bucket-ob_buscajuris-writer\",\n",
    "        \"namespace\": \"gri0qx6vdodt\"\n",
    "    }\n",
    "}"
   ]
  },
  {
   "cell_type": "code",
   "execution_count": 45,
   "metadata": {},
   "outputs": [
    {
     "ename": "InvalidConfig",
     "evalue": "{'tenancy': 'malformed', 'user': 'malformed', 'fingerprint': 'malformed'}",
     "output_type": "error",
     "traceback": [
      "\u001b[0;31m---------------------------------------------------------------------------\u001b[0m",
      "\u001b[0;31mInvalidConfig\u001b[0m                             Traceback (most recent call last)",
      "\u001b[1;32m/home/vitorhugo/Documentos/BuscaJuris/base-crawler/tests/teste.ipynb Cell 9\u001b[0m in \u001b[0;36m1\n\u001b[1;32m      <a href='vscode-notebook-cell:/home/vitorhugo/Documentos/BuscaJuris/base-crawler/tests/teste.ipynb#X10sZmlsZQ%3D%3D?line=1'>2</a>\u001b[0m \u001b[39mimport\u001b[39;00m \u001b[39mos\u001b[39;00m\n\u001b[1;32m      <a href='vscode-notebook-cell:/home/vitorhugo/Documentos/BuscaJuris/base-crawler/tests/teste.ipynb#X10sZmlsZQ%3D%3D?line=3'>4</a>\u001b[0m \u001b[39m# Defina as variáveis de ambiente com as suas informações de autenticação\u001b[39;00m\n\u001b[1;32m      <a href='vscode-notebook-cell:/home/vitorhugo/Documentos/BuscaJuris/base-crawler/tests/teste.ipynb#X10sZmlsZQ%3D%3D?line=4'>5</a>\u001b[0m \u001b[39m# os.environ['OCI_CONFIG_PROFILE'] = 'DEFAULT'\u001b[39;00m\n\u001b[1;32m      <a href='vscode-notebook-cell:/home/vitorhugo/Documentos/BuscaJuris/base-crawler/tests/teste.ipynb#X10sZmlsZQ%3D%3D?line=5'>6</a>\u001b[0m \u001b[39m# os.environ['OCI_REGION'] = 'SUA_REGIAO'\u001b[39;00m\n\u001b[0;32m   (...)\u001b[0m\n\u001b[1;32m      <a href='vscode-notebook-cell:/home/vitorhugo/Documentos/BuscaJuris/base-crawler/tests/teste.ipynb#X10sZmlsZQ%3D%3D?line=8'>9</a>\u001b[0m \n\u001b[1;32m     <a href='vscode-notebook-cell:/home/vitorhugo/Documentos/BuscaJuris/base-crawler/tests/teste.ipynb#X10sZmlsZQ%3D%3D?line=9'>10</a>\u001b[0m \u001b[39m# Crie o client do Object Storage\u001b[39;00m\n\u001b[0;32m---> <a href='vscode-notebook-cell:/home/vitorhugo/Documentos/BuscaJuris/base-crawler/tests/teste.ipynb#X10sZmlsZQ%3D%3D?line=10'>11</a>\u001b[0m object_storage_client \u001b[39m=\u001b[39m oci\u001b[39m.\u001b[39;49mobject_storage\u001b[39m.\u001b[39;49mObjectStorageClient(config\u001b[39m=\u001b[39;49mconfig, service_endpoint\u001b[39m=\u001b[39;49m\u001b[39m\"\u001b[39;49m\u001b[39mhttps://gri0qx6vdodt.compat.objectstorage.us-phoenix-1.oraclecloud.com\u001b[39;49m\u001b[39m\"\u001b[39;49m)\n\u001b[1;32m     <a href='vscode-notebook-cell:/home/vitorhugo/Documentos/BuscaJuris/base-crawler/tests/teste.ipynb#X10sZmlsZQ%3D%3D?line=12'>13</a>\u001b[0m \u001b[39m# Crie um namespace\u001b[39;00m\n\u001b[1;32m     <a href='vscode-notebook-cell:/home/vitorhugo/Documentos/BuscaJuris/base-crawler/tests/teste.ipynb#X10sZmlsZQ%3D%3D?line=13'>14</a>\u001b[0m namespace \u001b[39m=\u001b[39m object_storage_client\u001b[39m.\u001b[39mget_namespace()\u001b[39m.\u001b[39mdata\n",
      "File \u001b[0;32m~/.local/lib/python3.10/site-packages/oci/object_storage/object_storage_client.py:75\u001b[0m, in \u001b[0;36mObjectStorageClient.__init__\u001b[0;34m(self, config, **kwargs)\u001b[0m\n\u001b[1;32m     27\u001b[0m \u001b[39mdef\u001b[39;00m \u001b[39m__init__\u001b[39m(\u001b[39mself\u001b[39m, config, \u001b[39m*\u001b[39m\u001b[39m*\u001b[39mkwargs):\n\u001b[1;32m     28\u001b[0m     \u001b[39m\"\"\"\u001b[39;00m\n\u001b[1;32m     29\u001b[0m \u001b[39m    Creates a new service client\u001b[39;00m\n\u001b[1;32m     30\u001b[0m \n\u001b[0;32m   (...)\u001b[0m\n\u001b[1;32m     73\u001b[0m \u001b[39m        allow control characters to be in the response object.\u001b[39;00m\n\u001b[1;32m     74\u001b[0m \u001b[39m    \"\"\"\u001b[39;00m\n\u001b[0;32m---> 75\u001b[0m     validate_config(config, signer\u001b[39m=\u001b[39;49mkwargs\u001b[39m.\u001b[39;49mget(\u001b[39m'\u001b[39;49m\u001b[39msigner\u001b[39;49m\u001b[39m'\u001b[39;49m))\n\u001b[1;32m     76\u001b[0m     \u001b[39mif\u001b[39;00m \u001b[39m'\u001b[39m\u001b[39msigner\u001b[39m\u001b[39m'\u001b[39m \u001b[39min\u001b[39;00m kwargs:\n\u001b[1;32m     77\u001b[0m         signer \u001b[39m=\u001b[39m kwargs[\u001b[39m'\u001b[39m\u001b[39msigner\u001b[39m\u001b[39m'\u001b[39m]\n",
      "File \u001b[0;32m~/.local/lib/python3.10/site-packages/oci/config.py:164\u001b[0m, in \u001b[0;36mvalidate_config\u001b[0;34m(config, **kwargs)\u001b[0m\n\u001b[1;32m    162\u001b[0m         errors[key] \u001b[39m=\u001b[39m \u001b[39m\"\u001b[39m\u001b[39mmalformed\u001b[39m\u001b[39m\"\u001b[39m\n\u001b[1;32m    163\u001b[0m \u001b[39mif\u001b[39;00m errors:\n\u001b[0;32m--> 164\u001b[0m     \u001b[39mraise\u001b[39;00m InvalidConfig(errors)\n",
      "\u001b[0;31mInvalidConfig\u001b[0m: {'tenancy': 'malformed', 'user': 'malformed', 'fingerprint': 'malformed'}"
     ]
    }
   ],
   "source": [
    "import oci\n",
    "import os\n",
    "\n",
    "# Defina as variáveis de ambiente com as suas informações de autenticação\n",
    "# os.environ['OCI_CONFIG_PROFILE'] = 'DEFAULT'\n",
    "# os.environ['OCI_REGION'] = 'SUA_REGIAO'\n",
    "# os.environ['OCI_COMPARTMENT_ID'] = 'OCID_DO_SEU_COMPARTMENT'\n",
    "# os.environ['OCI_AUTH'] = 'HOME'  # ou 'instance_principal'\n",
    "\n",
    "# Crie o client do Object Storage\n",
    "object_storage_client = oci.object_storage.ObjectStorageClient(config=config, service_endpoint=\"https://gri0qx6vdodt.compat.objectstorage.us-phoenix-1.oraclecloud.com\")\n",
    "\n",
    "# Crie um namespace\n",
    "namespace = object_storage_client.get_namespace().data\n",
    "\n",
    "# Crie um objeto bucket\n",
    "bucket_name = 'NOME_DO_SEU_BUCKET'\n",
    "object_storage_client.create_bucket(namespace, oci.object_storage.models.CreateBucketDetails(name=bucket_name))\n",
    "\n",
    "# Upload do arquivo para o bucket\n",
    "object_name = 'arquivo_de_teste.pdf'\n",
    "file_path = 'arquivo_de_teste.pdf'\n",
    "with open(file_path, 'rb') as f:\n",
    "    object_storage_client.put_object(namespace, bucket_name, object_name, f.read())\n"
   ]
  },
  {
   "cell_type": "code",
   "execution_count": 18,
   "metadata": {},
   "outputs": [],
   "source": [
    "s3 = boto3.resource(\n",
    "'s3',\n",
    " region_name=region,\n",
    " aws_secret_access_key=secret_key,\n",
    " aws_access_key_id=secret_key,\n",
    ")\n"
   ]
  }
 ],
 "metadata": {
  "kernelspec": {
   "display_name": "Python 3",
   "language": "python",
   "name": "python3"
  },
  "language_info": {
   "codemirror_mode": {
    "name": "ipython",
    "version": 3
   },
   "file_extension": ".py",
   "mimetype": "text/x-python",
   "name": "python",
   "nbconvert_exporter": "python",
   "pygments_lexer": "ipython3",
   "version": "3.10.6"
  },
  "orig_nbformat": 4,
  "vscode": {
   "interpreter": {
    "hash": "916dbcbb3f70747c44a77c7bcd40155683ae19c65e1c03b4aa3499c5328201f1"
   }
  }
 },
 "nbformat": 4,
 "nbformat_minor": 2
}
